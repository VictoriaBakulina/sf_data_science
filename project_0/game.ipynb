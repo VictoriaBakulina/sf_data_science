{
 "cells": [
  {
   "cell_type": "markdown",
   "metadata": {},
   "source": [
    "# Угадай число\n",
    "Нужно написать программу, которая угадывает число за минимальное число попыток.\n",
    "\n",
    "## Условия соревнования\n",
    "- Компьютер загадывает целое число от 1 до 100, нам нужно написать программу, которая угадывает число.    \n",
    "- Алгоритм учитывает информацию о том, больше случайное число или меньше загаданного.\n",
    "- Необходимо добиться того, чтобы программа угадывала число меньше, чем за 20 попыток. "
   ]
  },
  {
   "cell_type": "code",
   "execution_count": 1,
   "metadata": {},
   "outputs": [],
   "source": [
    "import numpy as np\n",
    "from game_v2 import score_game"
   ]
  },
  {
   "cell_type": "markdown",
   "metadata": {},
   "source": [
    "## Угадываем рандомно"
   ]
  },
  {
   "cell_type": "code",
   "execution_count": 2,
   "metadata": {},
   "outputs": [],
   "source": [
    "def random_predict(number: int = 1) -> int:\n",
    "    \"\"\"Рандомно угадываем число\n",
    "\n",
    "    Args:\n",
    "        number (int, optional): Загаданное число. Defaults to 1.\n",
    "\n",
    "    Returns:\n",
    "        int: Число попыток\n",
    "    \"\"\"\n",
    "    count = 0\n",
    "    predict_number = 0\n",
    "\n",
    "    while number != predict_number: # предполагаем рандомное число, пока не угадали\n",
    "        count += 1\n",
    "        predict_number = np.random.randint(1, 101)\n",
    "    return count"
   ]
  },
  {
   "cell_type": "code",
   "execution_count": 3,
   "metadata": {},
   "outputs": [
    {
     "name": "stdout",
     "output_type": "stream",
     "text": [
      "Ваш алгоритм угадывает число в среднем за: 96 попыток\n"
     ]
    },
    {
     "data": {
      "text/plain": [
       "96"
      ]
     },
     "execution_count": 3,
     "metadata": {},
     "output_type": "execute_result"
    }
   ],
   "source": [
    "score_game(random_predict)"
   ]
  },
  {
   "cell_type": "markdown",
   "metadata": {},
   "source": [
    "## Подход 2: Угадывание с коррекцией"
   ]
  },
  {
   "cell_type": "code",
   "execution_count": 4,
   "metadata": {},
   "outputs": [],
   "source": [
    "import numpy as np"
   ]
  },
  {
   "cell_type": "code",
   "execution_count": 5,
   "metadata": {},
   "outputs": [
    {
     "data": {
      "text/plain": [
       "28"
      ]
     },
     "execution_count": 5,
     "metadata": {},
     "output_type": "execute_result"
    }
   ],
   "source": [
    "def game_core_v2(number: int = 1) -> int:\n",
    "    \"\"\"Сначала устанавливаем любое random число, а потом уменьшаем\n",
    "    или увеличиваем его на единицу в зависимости от того, больше оно или меньше загаданного.\n",
    "       Функция принимает загаданное число и возвращает число попыток.\n",
    "       \n",
    "    Args:\n",
    "        number (int, optional): Загаданное число. Defaults to 1.\n",
    "\n",
    "    Returns:\n",
    "        int: Число попыток\n",
    "    \"\"\"\n",
    "    count = 0\n",
    "    predict = np.random.randint(1, 101)\n",
    "    \n",
    "    while number != predict:\n",
    "        count += 1\n",
    "        if number > predict:\n",
    "            predict += 1\n",
    "        elif number < predict:\n",
    "            predict -= 1\n",
    "\n",
    "    return count\n",
    "\n",
    "game_core_v2()"
   ]
  },
  {
   "cell_type": "code",
   "execution_count": 6,
   "metadata": {},
   "outputs": [
    {
     "name": "stdout",
     "output_type": "stream",
     "text": [
      "Ваш алгоритм угадывает число в среднем за: 33 попыток\n"
     ]
    },
    {
     "data": {
      "text/plain": [
       "33"
      ]
     },
     "execution_count": 6,
     "metadata": {},
     "output_type": "execute_result"
    }
   ],
   "source": [
    "score_game(game_core_v2)"
   ]
  },
  {
   "cell_type": "markdown",
   "metadata": {},
   "source": [
    "## Подход 3: Угадывание с изменением лимитов"
   ]
  },
  {
   "cell_type": "code",
   "execution_count": 7,
   "metadata": {},
   "outputs": [
    {
     "data": {
      "text/plain": [
       "39"
      ]
     },
     "execution_count": 7,
     "metadata": {},
     "output_type": "execute_result"
    }
   ],
   "source": [
    "def game_core_v3(number: int = 1) -> int:\n",
    "    \"\"\"Сначала устанавливаем любое random число, определяем больше оно или меньше загаданного, затем изменяем границы \n",
    "    рандомного подбора числа, устанавливая random число на max или min позицию соответственно.\n",
    "       Функция принимает загаданное число и возвращает число попыток.\n",
    "       \n",
    "    Args:\n",
    "        number (int, optional): Загаданное число. Defaults to 1.\n",
    "\n",
    "    Returns:\n",
    "        int: Число попыток\n",
    "    \"\"\"\n",
    "    limit_min = 1\n",
    "    count = 0\n",
    "    limit_max = 101\n",
    "    predict = 0 # для первого входа в цикл задаем значение заведомо не равное number\n",
    "    \n",
    "    while number != predict:  \n",
    "        count += 1\n",
    "        predict = np.random.randint(limit_min, limit_max)\n",
    "        if predict > number:\n",
    "            limit_max = predict\n",
    "                       \n",
    "        elif predict < number:\n",
    "            limit_min = predict\n",
    "    return count\n",
    "game_core_v2(90)"
   ]
  },
  {
   "cell_type": "code",
   "execution_count": 8,
   "metadata": {},
   "outputs": [
    {
     "name": "stdout",
     "output_type": "stream",
     "text": [
      "Ваш алгоритм угадывает число в среднем за: 8 попыток\n"
     ]
    },
    {
     "data": {
      "text/plain": [
       "8"
      ]
     },
     "execution_count": 8,
     "metadata": {},
     "output_type": "execute_result"
    }
   ],
   "source": [
    "score_game(game_core_v3)"
   ]
  },
  {
   "cell_type": "markdown",
   "metadata": {},
   "source": [
    "## Подход 4: Угадывание с изменением лимитов и рассчетом среднего"
   ]
  },
  {
   "cell_type": "code",
   "execution_count": 9,
   "metadata": {},
   "outputs": [
    {
     "data": {
      "text/plain": [
       "31"
      ]
     },
     "execution_count": 9,
     "metadata": {},
     "output_type": "execute_result"
    }
   ],
   "source": [
    "def game_core(number: int = 1) -> int:\n",
    "    \"\"\"Сначала устанавливаем любое random число, определяем больше оно или меньше загаданного, затем изменяем границы \n",
    "    подбора числа, устанавливая random число на max или min позицию соответственно. Находим серединное значение\n",
    "    в новом диапазоне и проверяем его в следующей итерации в роли предполагаемого числа.\n",
    "       Функция принимает загаданное число и возвращает число попыток.\n",
    "       \n",
    "    Args:\n",
    "        number (int, optional): Загаданное число. Defaults to 1.\n",
    "\n",
    "    Returns:\n",
    "        int: Число попыток\n",
    "    \"\"\"\n",
    "    limit_min = 1\n",
    "    limit_max = 101\n",
    "    count = 0\n",
    "    predict = np.random.randint(limit_min, limit_max)\n",
    "    middle_number = predict\n",
    "    \n",
    "    while number != predict:  \n",
    "        count += 1\n",
    "        if predict > number:\n",
    "            limit_max = predict\n",
    "            middle_number = (limit_min + limit_max) // 2 \n",
    "            predict = middle_number\n",
    "                       \n",
    "        elif predict < number:\n",
    "            limit_min = predict\n",
    "            middle_number = (limit_min + limit_max) // 2\n",
    "            predict = middle_number\n",
    "    return count\n",
    "game_core_v2(0)\n",
    "    "
   ]
  },
  {
   "cell_type": "code",
   "execution_count": 19,
   "metadata": {},
   "outputs": [
    {
     "name": "stdout",
     "output_type": "stream",
     "text": [
      "Ваш алгоритм угадывает число в среднем за: 4 попыток\n"
     ]
    },
    {
     "data": {
      "text/plain": [
       "4"
      ]
     },
     "execution_count": 19,
     "metadata": {},
     "output_type": "execute_result"
    }
   ],
   "source": [
    "score_game(game_core)\n",
    "# лучший результат"
   ]
  }
 ],
 "metadata": {
  "interpreter": {
   "hash": "ee808e154948bb6e2cfe3573e1d81682743f97116e3f7c6fbe6f3aeed2c90c29"
  },
  "kernelspec": {
   "display_name": "Python 3.9.13 64-bit",
   "language": "python",
   "name": "python3"
  },
  "language_info": {
   "codemirror_mode": {
    "name": "ipython",
    "version": 3
   },
   "file_extension": ".py",
   "mimetype": "text/x-python",
   "name": "python",
   "nbconvert_exporter": "python",
   "pygments_lexer": "ipython3",
   "version": "3.9.13"
  }
 },
 "nbformat": 4,
 "nbformat_minor": 2
}
